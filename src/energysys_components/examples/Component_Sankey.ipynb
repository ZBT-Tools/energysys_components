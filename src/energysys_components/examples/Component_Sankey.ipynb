{
 "cells": [
  {
   "cell_type": "markdown",
   "id": "9cea9a4c-7d11-4401-a479-8ab4df609050",
   "metadata": {},
   "source": [
    "# Component Sankey Diagram\n"
   ]
  },
  {
   "cell_type": "code",
   "execution_count": 1,
   "id": "379d09ce-1c2a-4a87-afad-fb4f892b2c16",
   "metadata": {
    "ExecuteTime": {
     "end_time": "2025-08-07T15:08:47.682449Z",
     "start_time": "2025-08-07T15:08:47.292898Z"
    }
   },
   "outputs": [],
   "source": [
    "import pprint\n",
    "import pandas as pd\n",
    "import numpy as np\n",
    "import plotly.graph_objects as go\n",
    "import copy\n",
    "from energysys_components.energy_conversion import ECCParameter, ECCState,EnergyConversionComponent\n",
    "from energysys_components.various.sankey import sankey_component_input_dicts\n",
    "from pathlib import Path\n",
    "from energysys_components.energy_carrier import ECarrier\n"
   ]
  },
  {
   "cell_type": "code",
   "execution_count": null,
   "id": "ec41807b-278a-4640-bcce-58e685fb50b4",
   "metadata": {
    "ExecuteTime": {
     "end_time": "2025-08-07T15:08:47.694330Z",
     "start_time": "2025-08-07T15:08:47.691528Z"
    },
    "scrolled": true
   },
   "outputs": [],
   "source": []
  },
  {
   "cell_type": "code",
   "execution_count": null,
   "id": "0a3f5c7c-c032-4d16-82d5-a92ae6a01a03",
   "metadata": {
    "ExecuteTime": {
     "end_time": "2025-08-07T15:08:47.700511Z",
     "start_time": "2025-08-07T15:08:47.694330Z"
    }
   },
   "outputs": [],
   "source": []
  },
  {
   "cell_type": "code",
   "execution_count": null,
   "id": "53a63935-31af-41af-bf05-1bdf70035a14",
   "metadata": {
    "ExecuteTime": {
     "end_time": "2025-08-07T15:08:47.706232Z",
     "start_time": "2025-08-07T15:08:47.703984Z"
    }
   },
   "outputs": [],
   "source": []
  },
  {
   "cell_type": "markdown",
   "id": "1d9ee6a2-7fc9-4f53-9a3f-b0b0fddbcfd4",
   "metadata": {},
   "source": [
    "## System initialization"
   ]
  },
  {
   "cell_type": "code",
   "execution_count": 2,
   "id": "9d96957d-a381-403c-a820-c818d9d3ed9c",
   "metadata": {
    "ExecuteTime": {
     "end_time": "2025-08-07T15:08:47.720754Z",
     "start_time": "2025-08-07T15:08:47.709505Z"
    }
   },
   "outputs": [],
   "source": [
    "path_ecarrier = Path.cwd().parent / Path(\"energycarrier/energycarrier.yaml\")\n",
    "ec_dict = ECarrier.from_yaml(path_ecarrier)\n",
    "components = ECCParameter.from_yaml(Path.cwd() / Path(\"../components/fuel_cell_PEM.yaml\"), ecarrier=ec_dict)\n",
    "component = components[\"PEM\"]"
   ]
  },
  {
   "cell_type": "code",
   "execution_count": null,
   "id": "94d04b39-9db6-4488-ae28-a6bab6c13367",
   "metadata": {
    "ExecuteTime": {
     "end_time": "2025-08-07T15:08:47.727579Z",
     "start_time": "2025-08-07T15:08:47.725008Z"
    }
   },
   "outputs": [],
   "source": []
  },
  {
   "cell_type": "markdown",
   "id": "b6d4a9fe-9bd5-407f-9e23-096c9680b0f1",
   "metadata": {},
   "source": [
    "## Calculation of stationary states"
   ]
  },
  {
   "cell_type": "code",
   "execution_count": 3,
   "id": "7b1bd394d4364bca",
   "metadata": {
    "ExecuteTime": {
     "end_time": "2025-08-07T15:08:48.988280Z",
     "start_time": "2025-08-07T15:08:47.731619Z"
    }
   },
   "outputs": [],
   "source": [
    "# Result DataFrame Initialization\n",
    "state_parms = [a for a in dir(ECCState()) if not a.startswith('__')]\n",
    "df1 = pd.DataFrame(columns=state_parms)\n",
    "df1.loc[0] = vars(ECCState())\n",
    "\n",
    "# Run different stationary cases for target output load\n",
    "targets = np.linspace(0, 1., 100)\n",
    "\n",
    "for ct, t in enumerate(targets):\n",
    "    # Initialization of component\n",
    "    C1_state = ECCState()\n",
    "    C1 = EnergyConversionComponent(par=component,\n",
    "                                   ts=1,\n",
    "                                   state=copy.deepcopy(C1_state))\n",
    "    C1.apply_control_stationary(t)\n",
    "    df1.loc[ct + 1] = vars(C1.state)\n",
    "    df1.loc[ct + 1, \"Target\"] = t\n",
    "\n",
    "# Create traces\n",
    "fig = go.Figure()\n",
    "\n",
    "# Create traces\n",
    "for cl in df1.columns:\n",
    "    fig.add_trace(go.Scatter(x=df1.Target[1:], y=df1[cl][1:],\n",
    "                             mode='lines',\n",
    "                             name=cl))\n",
    "fig.update_layout(xaxis_title=\"Output Load [kW]\",\n",
    "                  # yaxis_title=\"Y Axis Title\",\n",
    "                  )\n",
    "fig.update_layout(\n",
    "    autosize=False,\n",
    "    width=1400,\n",
    "    height=500)\n",
    "fig.show()"
   ]
  },
  {
   "cell_type": "code",
   "execution_count": null,
   "id": "82903a70eb58d386",
   "metadata": {
    "ExecuteTime": {
     "end_time": "2025-08-07T15:08:51.741974Z",
     "start_time": "2025-08-07T15:08:51.738365Z"
    }
   },
   "outputs": [],
   "source": []
  },
  {
   "cell_type": "markdown",
   "id": "7670b1b5-785e-4b9b-bc53-385332426011",
   "metadata": {},
   "source": [
    "### Sankey Chart"
   ]
  },
  {
   "cell_type": "code",
   "execution_count": 4,
   "id": "592728a1-e556-430a-806d-1c09f7f777c7",
   "metadata": {
    "ExecuteTime": {
     "end_time": "2025-08-07T15:08:52.306891Z",
     "start_time": "2025-08-07T15:08:52.301558Z"
    }
   },
   "outputs": [],
   "source": [
    "# Select result case\n",
    "data = df1.iloc[-2]"
   ]
  },
  {
   "cell_type": "code",
   "execution_count": 5,
   "id": "c801a202-5b06-4d09-91f0-eeb38f946e0c",
   "metadata": {
    "ExecuteTime": {
     "end_time": "2025-08-07T15:08:52.666366Z",
     "start_time": "2025-08-07T15:08:52.658680Z"
    }
   },
   "outputs": [],
   "source": [
    "path_ecarrier = Path.cwd().parent / Path(\"energycarrier/energycarrier.yaml\")\n",
    "ec_dict = ECarrier.from_yaml(path_ecarrier)"
   ]
  },
  {
   "cell_type": "code",
   "execution_count": 6,
   "id": "7a51b39a-5cfc-414d-92fc-74854471036e",
   "metadata": {
    "ExecuteTime": {
     "end_time": "2025-08-07T15:08:53.099989Z",
     "start_time": "2025-08-07T15:08:53.092306Z"
    }
   },
   "outputs": [
    {
     "data": {
      "text/plain": [
       "{'NH3': ECarrier(name='Ammonia', hu_kWh_kg=5.2, density_liq_kg_m3=682.78, energy_density_liq_kWh_m3=3550.456, color='#19a844'),\n",
       " 'H2': ECarrier(name='Hydrogen', hu_kWh_kg=33.33, density_liq_kg_m3=70.79, energy_density_liq_kWh_m3=2359.4307, color='#1982a8'),\n",
       " 'LNG': ECarrier(name='LNG', hu_kWh_kg=13.98, density_liq_kg_m3=450, energy_density_liq_kWh_m3=6291, color='#1982a8'),\n",
       " 'Electr': ECarrier(name='Electricity', hu_kWh_kg=0, density_liq_kg_m3=0, energy_density_liq_kWh_m3=0, color='#ccb80e'),\n",
       " 'Loss': ECarrier(name='Loss', hu_kWh_kg=0, density_liq_kg_m3=0, energy_density_liq_kWh_m3=0, color='#cc470e'),\n",
       " 'Seawater': ECarrier(name='Seawater', hu_kWh_kg=0, density_liq_kg_m3=999, energy_density_liq_kWh_m3=0, color='#0e8acc')}"
      ]
     },
     "execution_count": 6,
     "metadata": {},
     "output_type": "execute_result"
    }
   ],
   "source": [
    "ec_dict"
   ]
  },
  {
   "cell_type": "code",
   "execution_count": 7,
   "id": "bc024f4d-2bb6-4316-b192-85ec0c6d1509",
   "metadata": {
    "ExecuteTime": {
     "end_time": "2025-08-07T15:08:53.715835Z",
     "start_time": "2025-08-07T15:08:53.620041Z"
    }
   },
   "outputs": [],
   "source": [
    "\n",
    "\n",
    "# Create plotly formatted input\n",
    "data_node, data_link = sankey_component_input_dicts(data,\n",
    "                                                    comp=component,\n",
    "                                                    energycarrier=ec_dict)\n",
    "\n",
    "fig = go.Figure(data=[go.Sankey(\n",
    "    valueformat=\".0f\",\n",
    "    valuesuffix=\"kW\",\n",
    "    # Define nodes\n",
    "    node=dict(\n",
    "        pad=15,\n",
    "        thickness=40,\n",
    "        line=dict(color=\"black\", width=0.5),\n",
    "        label=data_node['label'],\n",
    "        color=data_node['color']),\n",
    "    link=data_link)])\n",
    "\n",
    "fig.update_layout(\n",
    "    title_text=f\"Simple component sankey diagram for component {component.name}\",\n",
    "    font_size=10)\n",
    "fig.show()"
   ]
  },
  {
   "cell_type": "markdown",
   "id": "49449f53-e3a8-4fd1-8740-6b18aa631656",
   "metadata": {},
   "source": [
    "## Load cycle calculation"
   ]
  },
  {
   "cell_type": "code",
   "execution_count": 8,
   "id": "d694f6eb-c861-4aa4-a194-f6e25661646a",
   "metadata": {
    "ExecuteTime": {
     "end_time": "2025-08-07T15:08:55.830738Z",
     "start_time": "2025-08-07T15:08:55.542226Z"
    }
   },
   "outputs": [],
   "source": [
    "# Result DataFrame Initialization\n",
    "state_parms = [a for a in dir(ECCState()) if not a.startswith('__')]\n",
    "df1 = pd.DataFrame(columns=state_parms)\n",
    "df1.loc[0] = vars(ECCState())\n",
    "\n",
    "# Run different stationary cases for target output load\n",
    "target = 1\n",
    "\n",
    "# number of time steps\n",
    "ts = 240\n",
    "\n",
    "## Initialization of component\n",
    "C1_state = ECCState()\n",
    "C1 = EnergyConversionComponent(par=component,\n",
    "                               ts=1,\n",
    "                               state=copy.deepcopy(C1_state))\n",
    "for t in range(ts):\n",
    "    if t <= 90:\n",
    "        C1.apply_control(target)\n",
    "    else:\n",
    "        C1.apply_control(0)\n",
    "    df1.loc[t + 1] = vars(C1.state)\n",
    "\n",
    "# Create traces\n",
    "fig = go.Figure()\n",
    "\n",
    "# Create traces\n",
    "for cl in df1.columns:\n",
    "    fig.add_trace(go.Scatter(x=df1.index[1:], y=df1[cl][1:],\n",
    "                             \n",
    "                             mode='lines',\n",
    "                             name=cl))\n",
    "    \n",
    "fig.update_layout(title=f\"Target Load,rel: {target}\",\n",
    "                  xaxis_title=\"Time Step\",\n",
    "                 )\n",
    "fig.update_layout(\n",
    "    autosize=False,\n",
    "    width=1400,\n",
    "    height=500)\n",
    "fig.show()"
   ]
  },
  {
   "cell_type": "code",
   "execution_count": null,
   "id": "7007fd93-2621-4615-a6e6-3974b9bab9f5",
   "metadata": {
    "ExecuteTime": {
     "end_time": "2025-08-07T15:08:56.844861Z",
     "start_time": "2025-08-07T15:08:56.841721Z"
    }
   },
   "outputs": [],
   "source": []
  },
  {
   "cell_type": "markdown",
   "id": "4b1aa66d-a54f-4658-b546-ea8bb0d4396f",
   "metadata": {},
   "source": [
    "### Sankey Diagrams"
   ]
  },
  {
   "cell_type": "code",
   "execution_count": 9,
   "id": "d3542cc1-587b-4008-ac62-a35b56303d8b",
   "metadata": {
    "ExecuteTime": {
     "end_time": "2025-08-07T15:08:58.338844Z",
     "start_time": "2025-08-07T15:08:57.487342Z"
    },
    "scrolled": true
   },
   "outputs": [
    {
     "data": {
      "text/html": [
       "\n",
       "        <iframe\n",
       "            width=\"100%\"\n",
       "            height=\"650\"\n",
       "            src=\"http://127.0.0.1:8050/\"\n",
       "            frameborder=\"0\"\n",
       "            allowfullscreen\n",
       "            \n",
       "        ></iframe>\n",
       "        "
      ],
      "text/plain": [
       "<IPython.lib.display.IFrame at 0x19de0d37ed0>"
      ]
     },
     "metadata": {},
     "output_type": "display_data"
    }
   ],
   "source": [
    "from dash import Dash, dcc, html, Input, Output\n",
    "import plotly.graph_objects as go\n",
    "import json, urllib\n",
    "\n",
    "app = Dash(__name__)\n",
    "\n",
    "app.layout = html.Div([\n",
    "    dcc.Graph(id=\"graph\"),\n",
    "    html.P(\"TS\"),\n",
    "    dcc.Slider(id='slider', min=0, max=240, \n",
    "               value=90,marks=None, step=1)\n",
    "])\n",
    "\n",
    "@app.callback(\n",
    "    Output(\"graph\", \"figure\"), \n",
    "    Input(\"slider\", \"value\"))\n",
    "def display_sankey(ts):\n",
    "    # Create plotly formatted input\n",
    "    data = df1.iloc[ts]\n",
    "    data_node, data_link = sankey_component_input_dicts(data,\n",
    "                                                        comp=component,\n",
    "                                                       energycarrier=ec_dict)\n",
    "    \n",
    "    fig = go.Figure(data=[go.Sankey(\n",
    "        valueformat=\".0f\",\n",
    "        valuesuffix=\"kW\",\n",
    "        # Define nodes\n",
    "        node=dict(\n",
    "            pad=15,\n",
    "            thickness=40,\n",
    "            line=dict(color=\"black\", width=0.5),\n",
    "            #label=data_node['label'],\n",
    "            color=data_node['color']),\n",
    "        link=data_link)])\n",
    "    \n",
    "    # fig.update_layout(\n",
    "    #     title_text=f\"Component sankey diagram for component: {component.name}\",\n",
    "    #     font_size=10)\n",
    "\n",
    "    fig.update_layout(\n",
    "        autosize=False,\n",
    "        width=400,\n",
    "        height=300)\n",
    "\n",
    "    fig.update_layout(\n",
    "    plot_bgcolor='#F2F2F2',\n",
    "    paper_bgcolor='#F2F2F2',\n",
    ")\n",
    "    \n",
    "    return fig\n",
    "app.run(debug=True)"
   ]
  },
  {
   "cell_type": "code",
   "execution_count": null,
   "id": "ebb3348ac2d8c61",
   "metadata": {
    "ExecuteTime": {
     "end_time": "2025-07-28T11:35:23.243874Z",
     "start_time": "2025-07-28T11:35:23.241861Z"
    }
   },
   "outputs": [],
   "source": []
  },
  {
   "cell_type": "code",
   "execution_count": null,
   "id": "1c275a7cad177825",
   "metadata": {},
   "outputs": [],
   "source": []
  }
 ],
 "metadata": {
  "kernelspec": {
   "display_name": "Python 3 (ipykernel)",
   "language": "python",
   "name": "python3"
  },
  "language_info": {
   "codemirror_mode": {
    "name": "ipython",
    "version": 3
   },
   "file_extension": ".py",
   "mimetype": "text/x-python",
   "name": "python",
   "nbconvert_exporter": "python",
   "pygments_lexer": "ipython3",
   "version": "3.11.9"
  }
 },
 "nbformat": 4,
 "nbformat_minor": 5
}
